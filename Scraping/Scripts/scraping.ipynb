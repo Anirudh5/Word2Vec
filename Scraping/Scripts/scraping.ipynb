{
 "cells": [
  {
   "cell_type": "code",
   "execution_count": 239,
   "metadata": {},
   "outputs": [],
   "source": [
    "import requests\n",
    "from bs4 import BeautifulSoup\n",
    "import re\n",
    "\n",
    "def getlinks():\n",
    "    f = open(\"naturelinks.txt\",\"w\")\n",
    "    s = \"\"\n",
    "    url = \"https://www.nature.com/search?article_type=protocols%2Cresearch%2Creviews&subject=medical-research&fbclid=IwAR2bryCX-MVeF8y8qbtnFmlyjj6rdDzVwX7KV4ebEDB4W0xWj30boPX5Y2k\"\n",
    "    for page in range(1,427):\n",
    "        r = requests.get(url + \"&page=\" + str(page))\n",
    "        soup = BeautifulSoup(r.text, 'html.parser')\n",
    "        results = soup.find_all('div', attrs={\"class\":\"cleared\"})\n",
    "        for results in soup.find_all('h2'):\n",
    "            for link in results.find_all('a'):\n",
    "                s = s + \"https://www.nature.com\" + link.get('href') + \"\\n\"\n",
    "    f.write(s)"
   ]
  },
  {
   "cell_type": "code",
   "execution_count": 242,
   "metadata": {},
   "outputs": [],
   "source": [
    "import threading,queue\n",
    "q = queue.Queue()\n",
    "\n",
    "def getdata(url):\n",
    "    r = requests.get(url)\n",
    "    content = \"\"\n",
    "    soup = BeautifulSoup(r.text, 'html.parser')\n",
    "    res =  soup.find_all('section')\n",
    "    needed = [\"Abstract\",\"Introduction\",\"Results\",\"Discussion\",\"Materials and Methods\",\"Key points\"]\n",
    "    data = \"\"\n",
    "    for sec in res:\n",
    "        heading = sec.find('h2')\n",
    "        if heading is not None:\n",
    "            headingText = heading.get_text()\n",
    "            if headingText in needed:\n",
    "                paras = sec.find_all('p')\n",
    "                for para in paras:\n",
    "                    if para is not None:\n",
    "                        data += para.get_text()\n",
    "    data = (data.strip() + \"\\n\")\n",
    "    return data\n",
    "\n",
    "def pushtoqueue(file):\n",
    "    for line in file:\n",
    "        q.put(line)\n",
    "\n",
    "def threadfunc(file):\n",
    "    fileD = open(file,\"a\")\n",
    "    data = \"\"\n",
    "    while not q.empty():\n",
    "        try:\n",
    "            print(url)\n",
    "            url = q.get()\n",
    "            data = data + (getdata(url)+\"\\n\"+\"\\n\")\n",
    "        except:\n",
    "            True\n",
    "    print(\"done\")\n",
    "    #fileD.write(data)\n",
    "\n",
    "#print(getdata(\"https://www.nature.com/articles/s41386-019-0377-9\"))"
   ]
  },
  {
   "cell_type": "code",
   "execution_count": 243,
   "metadata": {},
   "outputs": [
    {
     "name": "stdout",
     "output_type": "stream",
     "text": [
      "2\n"
     ]
    }
   ],
   "source": [
    "q = queue.Queue()\n",
    "f = open(\"templinks.txt\",\"r\")\n",
    "dataFile = \"naturedata.txt\"\n",
    "pushtoqueue(f)\n",
    "numthreads = 1\n",
    "threads = []\n",
    "print(q.qsize())\n",
    "\n",
    "\n",
    "for i in range(numthreads):\n",
    "        threads.append(threading.Thread(target=threadfunc,args=(dataFile,)))\n",
    "        threads[i].start()\n",
    "     "
   ]
  },
  {
   "cell_type": "code",
   "execution_count": null,
   "metadata": {},
   "outputs": [],
   "source": []
  }
 ],
 "metadata": {
  "kernelspec": {
   "display_name": "Python 3",
   "language": "python",
   "name": "python3"
  },
  "language_info": {
   "codemirror_mode": {
    "name": "ipython",
    "version": 3
   },
   "file_extension": ".py",
   "mimetype": "text/x-python",
   "name": "python",
   "nbconvert_exporter": "python",
   "pygments_lexer": "ipython3",
   "version": "3.7.2"
  }
 },
 "nbformat": 4,
 "nbformat_minor": 2
}
