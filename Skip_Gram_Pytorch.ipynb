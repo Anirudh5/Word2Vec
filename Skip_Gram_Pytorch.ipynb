{
  "nbformat": 4,
  "nbformat_minor": 0,
  "metadata": {
    "colab": {
      "name": "Skip-Gram Pytorch.ipynb",
      "version": "0.3.2",
      "provenance": [],
      "collapsed_sections": []
    },
    "language_info": {
      "codemirror_mode": {
        "name": "ipython",
        "version": 3
      },
      "file_extension": ".py",
      "mimetype": "text/x-python",
      "name": "python",
      "nbconvert_exporter": "python",
      "pygments_lexer": "ipython3",
      "version": "3.6.3"
    },
    "kernelspec": {
      "name": "python3",
      "display_name": "Python 3"
    },
    "accelerator": "GPU"
  },
  "cells": [
    {
      "metadata": {
        "id": "ry0C04TXblaB",
        "colab_type": "code",
        "colab": {}
      },
      "cell_type": "code",
      "source": [
        "from google.colab import drive\n",
        "drive.mount('/content/gdrive')"
      ],
      "execution_count": 0,
      "outputs": []
    },
    {
      "metadata": {
        "id": "9r4PIFpIP-M_",
        "colab_type": "code",
        "colab": {}
      },
      "cell_type": "code",
      "source": [
        "import torch\n",
        "import torch.nn as nn\n",
        "import torch.optim as optim\n",
        "import torch.nn.functional as F\n",
        "\n",
        "import pickle\n",
        "import numpy as np"
      ],
      "execution_count": 0,
      "outputs": []
    },
    {
      "metadata": {
        "id": "SGvkid-AUB66",
        "colab_type": "code",
        "colab": {}
      },
      "cell_type": "code",
      "source": [
        "corpus = open(\"drive/My Drive/Data.txt\", \"r\").readlines()\n",
        "tokenized_corpus = [x.split() for x in corpus]"
      ],
      "execution_count": 0,
      "outputs": []
    },
    {
      "metadata": {
        "id": "TZyXoZpDUB7I",
        "colab_type": "code",
        "colab": {}
      },
      "cell_type": "code",
      "source": [
        "vocabulary = {}\n",
        "word2idx = {}\n",
        "min_count = 20\n",
        "window_size = 2\n",
        "\n",
        "for sentence in tokenized_corpus:\n",
        "    for token in sentence:\n",
        "        if token not in vocabulary: vocabulary[token] = 0\n",
        "        vocabulary[token] += 1\n",
        "\n",
        "i = 0\n",
        "for w, c in vocabulary.items():\n",
        "    if c < min_count: continue\n",
        "    word2idx[w] = i\n",
        "    i += 1\n",
        "\n",
        "vocabulary_size = len(word2idx)"
      ],
      "execution_count": 0,
      "outputs": []
    },
    {
      "metadata": {
        "id": "cc6kWNF6UB7O",
        "colab_type": "code",
        "colab": {}
      },
      "cell_type": "code",
      "source": [
        "contexts = []\n",
        "targets = []\n",
        "\n",
        "# for each sentence\n",
        "for sentence in tokenized_corpus:\n",
        "    indices = [word2idx[word] for word in sentence]\n",
        "    # for each word, threated as center word\n",
        "    for center_word_pos in range(window_size, len(indices) - window_size):\n",
        "        targets.append([indices[center_word_pos]])\n",
        "        contexts.append([indices[w] for w in range(center_word_pos - window_size, center_word_pos + window_size + 1) if w != center_word_pos])\n",
        "\n",
        "targets = torch.tensor(targets)\n",
        "if torch.cuda.is_available(): targets = targets.cuda()"
      ],
      "execution_count": 0,
      "outputs": []
    },
    {
      "metadata": {
        "id": "nhMEFJqbUB7T",
        "colab_type": "code",
        "colab": {}
      },
      "cell_type": "code",
      "source": [
        "def input(word_idx):\n",
        "    x = torch.zeros(vocabulary_size)\n",
        "    if torch.cuda.is_available(): x = x.cuda()\n",
        "    x[word_idx] = 1.0\n",
        "    return x"
      ],
      "execution_count": 0,
      "outputs": []
    },
    {
      "metadata": {
        "id": "XPSP9PmC9Iq-",
        "colab_type": "code",
        "colab": {}
      },
      "cell_type": "code",
      "source": [
        "def cosine(a, b):\n",
        "    return torch.dot(a, b) / (torch.norm(a) * torch.norm(b))"
      ],
      "execution_count": 0,
      "outputs": []
    },
    {
      "metadata": {
        "id": "GV8_zeK8b79Z",
        "colab_type": "code",
        "colab": {}
      },
      "cell_type": "code",
      "source": [
        "class Net(nn.Module):\n",
        "    def __init__(self, embedding_dims, vocabulary_size):\n",
        "        super(Net, self).__init__()\n",
        "        self.W1 = nn.Linear(vocabulary_size, embedding_dims, bias=False)\n",
        "        self.W2 = nn.Linear(embedding_dims, vocabulary_size, bias=False)\n",
        "\n",
        "    def forward(self, x):\n",
        "        z = self.W2(self.W1(x))\n",
        "        log_softmax = F.log_softmax(z, dim=0)\n",
        "        return log_softmax.view(1,-1)"
      ],
      "execution_count": 0,
      "outputs": []
    },
    {
      "metadata": {
        "id": "OrLxzbyTUB7Y",
        "colab_type": "code",
        "colab": {}
      },
      "cell_type": "code",
      "source": [
        "num_epochs = 20\n",
        "learning_rate = 0.1\n",
        "embedding_dims = 30\n",
        "\n",
        "model = Net(embedding_dims, vocabulary_size)\n",
        "if torch.cuda.is_available(): model = model.cuda()\n",
        "\n",
        "parameters = list(filter(lambda p: p.requires_grad, model.parameters()))\n",
        "optimiser = optim.SGD(parameters, lr=learning_rate)\n",
        "\n",
        "iterations = 0\n",
        "for epo in range(num_epochs):\n",
        "    loss_val = 0\n",
        "    for context, target in zip(contexts, targets):\n",
        "        model.zero_grad()\n",
        "        optimiser.zero_grad()\n",
        "        \n",
        "        prediction = model(input(context))\n",
        "        loss = F.nll_loss(prediction, target)\n",
        "        loss_val += loss.item()\n",
        "        \n",
        "        if iterations % 100 == 0:\n",
        "            loss.backward()\n",
        "            optimiser.step()\n",
        "            iterations = 0\n",
        "          \n",
        "        iterations += 1\n",
        "        \n",
        "    print(\"Loss at epoch %d = %.2f\" % (epo + 1, loss_val))"
      ],
      "execution_count": 0,
      "outputs": []
    },
    {
      "metadata": {
        "id": "AE7EupBAzpzM",
        "colab_type": "code",
        "colab": {}
      },
      "cell_type": "code",
      "source": [
        "np.save(\"vectors\", vectors)\n",
        "pickle.dump(word2idx, open(\"word2idx.pkl\", \"wb\"))"
      ],
      "execution_count": 0,
      "outputs": []
    },
    {
      "metadata": {
        "id": "H58s6hiS8oTK",
        "colab_type": "code",
        "colab": {}
      },
      "cell_type": "code",
      "source": [
        "embedding = model.W2.weight"
      ],
      "execution_count": 0,
      "outputs": []
    },
    {
      "metadata": {
        "id": "m4vE-kpaJyYX",
        "colab_type": "code",
        "colab": {}
      },
      "cell_type": "code",
      "source": [
        "from heapq import nlargest\n",
        "\n",
        "def most_similar(token):\n",
        "    score = {}\n",
        "    for word in vocabulary:\n",
        "        a = embedding[word2idx[token]]\n",
        "        b = embedding[word2idx[word]]\n",
        "        score[word] = cosine(a, b).item()\n",
        "\n",
        "    print(nlargest(10, score, key=score.get))\n",
        "\n",
        "def closest(a):\n",
        "    score = {}\n",
        "    for word in vocabulary:\n",
        "        b = embedding[word2idx[word]]\n",
        "        score[word] = cosine(a, b).item()\n",
        "\n",
        "    print(nlargest(10, score, key=score.get))"
      ],
      "execution_count": 0,
      "outputs": []
    },
    {
      "metadata": {
        "id": "rfanbcTlKsg5",
        "colab_type": "code",
        "colab": {}
      },
      "cell_type": "code",
      "source": [
        "most_similar(\"doctor\")"
      ],
      "execution_count": 0,
      "outputs": []
    },
    {
      "metadata": {
        "id": "CpGqn9BILPTY",
        "colab_type": "code",
        "colab": {}
      },
      "cell_type": "code",
      "source": [
        "a = embedding[word2idx[\"woman\"]]\n",
        "b = embedding[word2idx[\"man\"]]\n",
        "c = embedding[word2idx[\"doctor\"]]\n",
        "closest(c - b + a)"
      ],
      "execution_count": 0,
      "outputs": []
    },
    {
      "metadata": {
        "id": "L5I-2ty0_Y_p",
        "colab_type": "code",
        "colab": {}
      },
      "cell_type": "code",
      "source": [
        "a = embedding[word2idx[\"person\"]]\n",
        "b = embedding[word2idx[\"doctor\"]]\n",
        "\n",
        "cosine(a, b).item()"
      ],
      "execution_count": 0,
      "outputs": []
    }
  ]
}